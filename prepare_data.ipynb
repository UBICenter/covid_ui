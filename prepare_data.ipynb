{
 "cells": [
  {
   "cell_type": "markdown",
   "metadata": {},
   "source": [
    "# Prepare data\n",
    "\n",
    "* Loads and preprocesses IPUMS ASEC from 2009 to 2018\n",
    "* Simulates FPUC unemployment benefits\n",
    "* Calculates tax liability from unemployment benefits via `taxcalc`\n",
    "* Calculates budget-neutral UBI and payroll tax cuts\n",
    "* Aggregates to SPM unit level\n",
    "* Joins back to person record\n",
    "* Exports person and SPM unit records"
   ]
  },
  {
   "cell_type": "code",
   "execution_count": 1,
   "metadata": {},
   "outputs": [],
   "source": [
    "import numpy as np\n",
    "import pandas as pd\n",
    "import taxcalc as tc\n",
    "import microdf as mdf\n",
    "\n",
    "# For setting a random period of unemployment given a person's duration.\n",
    "np.random.seed(0)"
   ]
  },
  {
   "cell_type": "code",
   "execution_count": 2,
   "metadata": {},
   "outputs": [],
   "source": [
    "person = pd.read_csv('data/cps.csv.gz')"
   ]
  },
  {
   "cell_type": "markdown",
   "metadata": {},
   "source": [
    "## Preprocessing"
   ]
  },
  {
   "cell_type": "code",
   "execution_count": 3,
   "metadata": {},
   "outputs": [],
   "source": [
    "run 'convert_asec_taxcalc.py'"
   ]
  },
  {
   "cell_type": "code",
   "execution_count": 4,
   "metadata": {},
   "outputs": [],
   "source": [
    "run 'make_tax_units.py'"
   ]
  },
  {
   "cell_type": "code",
   "execution_count": 5,
   "metadata": {},
   "outputs": [],
   "source": [
    "# Set columns to lowercase and to 0 or null as appropriate.\n",
    "prep_ipum(person)\n",
    "# Add taxid and related fields.\n",
    "tax_unit_id(person)\n",
    "# Add other person-level columns in taxcalc form.\n",
    "person = convert_asec_person_taxcalc(person)\n",
    "# 99 is the missing code for wksunem1.\n",
    "# Note: Missing codes for features used in taxcalc are recoded in\n",
    "# convert_asec_taxcalc.py.\n",
    "person.loc[person.wksunem1 == 99, 'wksunem1'] = 0\n",
    "# The 2014 file was released in two ways, so weights must be halved.\n",
    "person.asecwt *= np.where(person.year == 2014, 0.5, 1)"
   ]
  },
  {
   "cell_type": "markdown",
   "metadata": {},
   "source": [
    "## Add UI to person records\n",
    "\n",
    "Assume that unemployment blocks are contiguous and randomly distributed."
   ]
  },
  {
   "cell_type": "code",
   "execution_count": 6,
   "metadata": {},
   "outputs": [],
   "source": [
    "person['ui_start'] = np.random.randint(1, 53 - person.wksunem1,\n",
    "                                       person.shape[0])\n",
    "person['ui_end'] = person.ui_start + person.wksunem1"
   ]
  },
  {
   "cell_type": "code",
   "execution_count": 7,
   "metadata": {},
   "outputs": [],
   "source": [
    "FPUC_START = 13  # April was the 13th week.\n",
    "FPUC_MAX_WEEKS = 17  # April to July.\n",
    "FPUC2_START = FPUC_START + FPUC_MAX_WEEKS\n",
    "FPUC2_MAX_WEEKS = 22  # August to December.\n",
    "FPUC_WEEKLY_BEN = 600\n",
    "person['fpuc_weeks'] = np.fmax(\n",
    "    0, np.fmin(person.ui_end - FPUC_START,\n",
    "               np.fmin(person.wksunem1, FPUC_MAX_WEEKS)))\n",
    "person['fpuc2_weeks'] = np.fmax(\n",
    "    0, np.fmin(person.ui_end - FPUC2_START,\n",
    "               np.fmin(person.wksunem1, FPUC2_MAX_WEEKS)))\n",
    "person['fpuc'] = FPUC_WEEKLY_BEN * person.fpuc_weeks\n",
    "person['fpuc2'] = person.fpuc + FPUC_WEEKLY_BEN * person.fpuc2_weeks\n",
    "\n",
    "# Checks\n",
    "assert person.fpuc_weeks.max() == FPUC_MAX_WEEKS\n",
    "assert person.fpuc2_weeks.max() == FPUC2_MAX_WEEKS\n",
    "assert person.fpuc_weeks.min() == person.fpuc2_weeks.min() == 0"
   ]
  },
  {
   "cell_type": "code",
   "execution_count": 8,
   "metadata": {},
   "outputs": [],
   "source": [
    "# Store original unemployment benefits.\n",
    "person['e02300_orig'] = person.e02300"
   ]
  },
  {
   "cell_type": "markdown",
   "metadata": {},
   "source": [
    "## Create tax units and calculate tax liability"
   ]
  },
  {
   "cell_type": "code",
   "execution_count": 9,
   "metadata": {},
   "outputs": [],
   "source": [
    "person['FLPDYR'] = person.year - 1\n",
    "person['RECID'] = person.FLPDYR * 1e9 + person.taxid"
   ]
  },
  {
   "cell_type": "code",
   "execution_count": 10,
   "metadata": {},
   "outputs": [],
   "source": [
    "def get_taxes(tu):\n",
    "    \"\"\" Calculates taxes by running taxcalc on a tax unit DataFrame.\n",
    "    \n",
    "    Args:\n",
    "        tu: Tax unit DataFrame.\n",
    "    \n",
    "    Returns:\n",
    "        Series with tax liability for each tax unit.\n",
    "    \"\"\"\n",
    "    return mdf.calc_df(records=tc.Records(tu, weights=None, gfactors=None),\n",
    "                       year=2018).tax.values"
   ]
  },
  {
   "cell_type": "code",
   "execution_count": 11,
   "metadata": {},
   "outputs": [],
   "source": [
    "# Create tax unit dataframe.\n",
    "tu = create_tax_unit(person)\n",
    "tu['tax'] = get_taxes(tu)"
   ]
  },
  {
   "cell_type": "markdown",
   "metadata": {},
   "source": [
    "Simulate FPUC."
   ]
  },
  {
   "cell_type": "code",
   "execution_count": 12,
   "metadata": {},
   "outputs": [],
   "source": [
    "# Create tax unit dataframe.\n",
    "person.e02300 = person.e02300_orig + person.fpuc\n",
    "tu_fpuc = create_tax_unit(person)\n",
    "tu['e02300_fpuc'] = tu_fpuc.e02300\n",
    "tu['tax_fpuc'] = get_taxes(tu_fpuc)\n",
    "del tu_fpuc"
   ]
  },
  {
   "cell_type": "markdown",
   "metadata": {},
   "source": [
    "Simulate extended FPUC."
   ]
  },
  {
   "cell_type": "code",
   "execution_count": 13,
   "metadata": {},
   "outputs": [],
   "source": [
    "# Create tax unit dataframe.\n",
    "person.e02300 = person.e02300_orig + person.fpuc2\n",
    "tu_fpuc2 = create_tax_unit(person)\n",
    "tu['e02300_fpuc2'] = tu_fpuc2.e02300\n",
    "tu['tax_fpuc2'] = get_taxes(tu_fpuc2)\n",
    "del tu_fpuc2"
   ]
  },
  {
   "cell_type": "code",
   "execution_count": 14,
   "metadata": {},
   "outputs": [],
   "source": [
    "# Change person e02300 back.\n",
    "person.e02300 = person.e02300_orig"
   ]
  },
  {
   "cell_type": "markdown",
   "metadata": {},
   "source": [
    "## Merge back to the person level\n",
    "\n",
    "Have each person pay the share of tax differences in proportion with their FPUC."
   ]
  },
  {
   "cell_type": "code",
   "execution_count": 15,
   "metadata": {},
   "outputs": [],
   "source": [
    "tu['fpuc_total'] = tu.e02300_fpuc - tu.e02300\n",
    "tu['fpuc2_total'] = tu.e02300_fpuc2 - tu.e02300\n",
    "tu['fpuc_tax_total'] = tu.tax_fpuc - tu.tax\n",
    "tu['fpuc2_tax_total'] = tu.tax_fpuc2 - tu.tax"
   ]
  },
  {
   "cell_type": "code",
   "execution_count": 16,
   "metadata": {},
   "outputs": [],
   "source": [
    "person2 = person.merge(tu[['RECID', 'fpuc_total', 'fpuc2_total',\n",
    "                           'fpuc_tax_total', 'fpuc2_tax_total']],\n",
    "                       on='RECID')\n",
    "del person"
   ]
  },
  {
   "cell_type": "code",
   "execution_count": 17,
   "metadata": {},
   "outputs": [],
   "source": [
    "for i in ['fpuc', 'fpuc2']:\n",
    "    person2[i + '_tax'] = np.where(person2[i + '_total'] == 0, 0,\n",
    "        person2[i + '_tax_total'] * person2[i] / person2[i + '_total'])\n",
    "    person2[i + '_net'] = person2[i] - person2[i + '_tax']"
   ]
  },
  {
   "cell_type": "markdown",
   "metadata": {},
   "source": [
    "Checks that the totals match by person and tax unit, then garbage-collect."
   ]
  },
  {
   "cell_type": "code",
   "execution_count": 18,
   "metadata": {},
   "outputs": [],
   "source": [
    "assert np.allclose(tu.fpuc_total.sum(), person2.fpuc.sum())\n",
    "assert np.allclose(tu.fpuc2_total.sum(), person2.fpuc2.sum())\n",
    "assert np.allclose(tu.fpuc_tax_total.sum(), person2.fpuc_tax.sum())\n",
    "assert np.allclose(tu.fpuc2_tax_total.sum(), person2.fpuc2_tax.sum())\n",
    "del tu"
   ]
  },
  {
   "cell_type": "markdown",
   "metadata": {},
   "source": [
    "## Calculate budget-neutral UBIs and payroll taxes"
   ]
  },
  {
   "cell_type": "code",
   "execution_count": 19,
   "metadata": {},
   "outputs": [],
   "source": [
    "def single_year_summary(year):\n",
    "    fpuc_budget = mdf.weighted_sum(person2[person2.FLPDYR == year],\n",
    "                                   'fpuc_net', 'asecwt')\n",
    "    fpuc1_2_budget = mdf.weighted_sum(person2[person2.FLPDYR == year],\n",
    "                                      'fpuc2_net', 'asecwt')\n",
    "    fpuc2_budget = fpuc1_2_budget - fpuc_budget\n",
    "    pop = person2[person2.FLPDYR == year].asecwt.sum()\n",
    "    adult_pop = person2[person2.FLPDYR == year][person2.age > 17].asecwt.sum()\n",
    "    total_fica = mdf.weighted_sum(person2[person2.FLPDYR == year],\n",
    "                                  'fica', 'asecwt')\n",
    "    fpuc_ubi = fpuc_budget / pop\n",
    "    fpuc_adult_ubi = fpuc_budget / adult_pop\n",
    "    fpuc_fica_pct_cut = 100 * fpuc_budget / total_fica\n",
    "    # Note: FPUC2 includes FPUC1.\n",
    "    fpuc2_ubi = fpuc2_budget / pop\n",
    "    fpuc2_adult_ubi = fpuc2_budget / adult_pop\n",
    "    fpuc2_fica_pct_cut = 100 * fpuc2_budget / total_fica\n",
    "    return pd.Series([fpuc_budget, fpuc2_budget, pop, adult_pop, total_fica,\n",
    "                      fpuc_ubi, fpuc_adult_ubi, fpuc_fica_pct_cut,\n",
    "                      fpuc2_ubi, fpuc2_adult_ubi, fpuc2_fica_pct_cut])"
   ]
  },
  {
   "cell_type": "code",
   "execution_count": 20,
   "metadata": {},
   "outputs": [
    {
     "name": "stderr",
     "output_type": "stream",
     "text": [
      "/home/mghenis/anaconda3/lib/python3.7/site-packages/ipykernel_launcher.py:8: UserWarning: Boolean Series key will be reindexed to match DataFrame index.\n",
      "  \n"
     ]
    },
    {
     "name": "stdout",
     "output_type": "stream",
     "text": [
      "All figures in millions.\n"
     ]
    },
    {
     "data": {
      "text/html": [
       "<div>\n",
       "<style scoped>\n",
       "    .dataframe tbody tr th:only-of-type {\n",
       "        vertical-align: middle;\n",
       "    }\n",
       "\n",
       "    .dataframe tbody tr th {\n",
       "        vertical-align: top;\n",
       "    }\n",
       "\n",
       "    .dataframe thead th {\n",
       "        text-align: right;\n",
       "    }\n",
       "</style>\n",
       "<table border=\"1\" class=\"dataframe\">\n",
       "  <thead>\n",
       "    <tr style=\"text-align: right;\">\n",
       "      <th></th>\n",
       "      <th>Cost of FPUC</th>\n",
       "      <th>Cost of expanding FPUC</th>\n",
       "      <th>Population</th>\n",
       "      <th>Adult population</th>\n",
       "      <th>Total FICA</th>\n",
       "    </tr>\n",
       "    <tr>\n",
       "      <th>FLPDYR</th>\n",
       "      <th></th>\n",
       "      <th></th>\n",
       "      <th></th>\n",
       "      <th></th>\n",
       "      <th></th>\n",
       "    </tr>\n",
       "  </thead>\n",
       "  <tbody>\n",
       "    <tr>\n",
       "      <th>2009</th>\n",
       "      <td>119198.4</td>\n",
       "      <td>79772.1</td>\n",
       "      <td>304.3</td>\n",
       "      <td>229.7</td>\n",
       "      <td>462879.9</td>\n",
       "    </tr>\n",
       "    <tr>\n",
       "      <th>2010</th>\n",
       "      <td>111449.4</td>\n",
       "      <td>76513.1</td>\n",
       "      <td>306.6</td>\n",
       "      <td>232.3</td>\n",
       "      <td>466351.5</td>\n",
       "    </tr>\n",
       "    <tr>\n",
       "      <th>2011</th>\n",
       "      <td>106092.4</td>\n",
       "      <td>71909.0</td>\n",
       "      <td>308.8</td>\n",
       "      <td>234.7</td>\n",
       "      <td>368266.0</td>\n",
       "    </tr>\n",
       "    <tr>\n",
       "      <th>2012</th>\n",
       "      <td>99092.2</td>\n",
       "      <td>66530.3</td>\n",
       "      <td>311.1</td>\n",
       "      <td>236.9</td>\n",
       "      <td>377748.0</td>\n",
       "    </tr>\n",
       "    <tr>\n",
       "      <th>2013</th>\n",
       "      <td>91637.9</td>\n",
       "      <td>61113.7</td>\n",
       "      <td>313.4</td>\n",
       "      <td>239.5</td>\n",
       "      <td>519363.9</td>\n",
       "    </tr>\n",
       "    <tr>\n",
       "      <th>2014</th>\n",
       "      <td>78062.2</td>\n",
       "      <td>50158.5</td>\n",
       "      <td>316.2</td>\n",
       "      <td>242.2</td>\n",
       "      <td>537261.3</td>\n",
       "    </tr>\n",
       "    <tr>\n",
       "      <th>2015</th>\n",
       "      <td>73853.2</td>\n",
       "      <td>47914.0</td>\n",
       "      <td>318.9</td>\n",
       "      <td>244.8</td>\n",
       "      <td>583729.0</td>\n",
       "    </tr>\n",
       "    <tr>\n",
       "      <th>2016</th>\n",
       "      <td>68124.6</td>\n",
       "      <td>44611.2</td>\n",
       "      <td>320.4</td>\n",
       "      <td>246.3</td>\n",
       "      <td>601323.1</td>\n",
       "    </tr>\n",
       "    <tr>\n",
       "      <th>2017</th>\n",
       "      <td>60800.7</td>\n",
       "      <td>38545.7</td>\n",
       "      <td>323.2</td>\n",
       "      <td>249.2</td>\n",
       "      <td>633673.0</td>\n",
       "    </tr>\n",
       "    <tr>\n",
       "      <th>2018</th>\n",
       "      <td>59642.5</td>\n",
       "      <td>37882.0</td>\n",
       "      <td>324.4</td>\n",
       "      <td>250.6</td>\n",
       "      <td>661276.2</td>\n",
       "    </tr>\n",
       "  </tbody>\n",
       "</table>\n",
       "</div>"
      ],
      "text/plain": [
       "        Cost of FPUC  Cost of expanding FPUC  Population  Adult population  \\\n",
       "FLPDYR                                                                       \n",
       "2009        119198.4                 79772.1       304.3             229.7   \n",
       "2010        111449.4                 76513.1       306.6             232.3   \n",
       "2011        106092.4                 71909.0       308.8             234.7   \n",
       "2012         99092.2                 66530.3       311.1             236.9   \n",
       "2013         91637.9                 61113.7       313.4             239.5   \n",
       "2014         78062.2                 50158.5       316.2             242.2   \n",
       "2015         73853.2                 47914.0       318.9             244.8   \n",
       "2016         68124.6                 44611.2       320.4             246.3   \n",
       "2017         60800.7                 38545.7       323.2             249.2   \n",
       "2018         59642.5                 37882.0       324.4             250.6   \n",
       "\n",
       "        Total FICA  \n",
       "FLPDYR              \n",
       "2009      462879.9  \n",
       "2010      466351.5  \n",
       "2011      368266.0  \n",
       "2012      377748.0  \n",
       "2013      519363.9  \n",
       "2014      537261.3  \n",
       "2015      583729.0  \n",
       "2016      601323.1  \n",
       "2017      633673.0  \n",
       "2018      661276.2  "
      ]
     },
     "execution_count": 20,
     "metadata": {},
     "output_type": "execute_result"
    }
   ],
   "source": [
    "OVERALL_YEARLY_METRICS = ['fpuc_budget', 'fpuc2_budget', 'pop', 'adult_pop',\n",
    "                          'total_fica']\n",
    "FPUC_YEARLY_METRICS = ['fpuc_ubi', 'fpuc_adult_ubi', 'fpuc_fica_pct_cut']\n",
    "FPUC2_YEARLY_METRICS = ['fpuc2_ubi', 'fpuc2_adult_ubi', 'fpuc2_fica_pct_cut']\n",
    "all_metrics = (\n",
    "    OVERALL_YEARLY_METRICS + FPUC_YEARLY_METRICS + FPUC2_YEARLY_METRICS)\n",
    "DISPLAY_METRICS = {\n",
    "    'fpuc_budget': 'Cost of FPUC',\n",
    "    'fpuc2_budget': 'Cost of expanding FPUC',\n",
    "    'pop': 'Population',\n",
    "    'adult_pop': 'Adult population',\n",
    "    'total_fica': 'Total FICA',\n",
    "    'fpuc_ubi': 'Universal one-time payment (FPUC)',\n",
    "    'fpuc_adult_ubi': 'Adult one-time payment (FPUC)',\n",
    "    'fpuc_fica_pct_cut': 'FICA % cut (FPUC)',\n",
    "    'fpuc2_ubi': 'Universal one-time payment (FPUC2)',\n",
    "    'fpuc2_adult_ubi': 'Adult one-time payment (FPUC2)',\n",
    "    'fpuc2_fica_pct_cut': 'FICA % cut (FPUC2)'\n",
    "}\n",
    "    \n",
    "year_summary = pd.DataFrame({'FLPDYR': person2.FLPDYR.unique()})\n",
    "year_summary[all_metrics] = year_summary.FLPDYR.apply(single_year_summary)\n",
    "\n",
    "# Print overall summary\n",
    "print(\"All figures in millions.\")\n",
    "(year_summary.set_index('FLPDYR')[OVERALL_YEARLY_METRICS].rename(\n",
    "    columns=DISPLAY_METRICS) / 1e6).round(1)"
   ]
  },
  {
   "cell_type": "code",
   "execution_count": 21,
   "metadata": {},
   "outputs": [
    {
     "data": {
      "text/html": [
       "<div>\n",
       "<style scoped>\n",
       "    .dataframe tbody tr th:only-of-type {\n",
       "        vertical-align: middle;\n",
       "    }\n",
       "\n",
       "    .dataframe tbody tr th {\n",
       "        vertical-align: top;\n",
       "    }\n",
       "\n",
       "    .dataframe thead th {\n",
       "        text-align: right;\n",
       "    }\n",
       "</style>\n",
       "<table border=\"1\" class=\"dataframe\">\n",
       "  <thead>\n",
       "    <tr style=\"text-align: right;\">\n",
       "      <th></th>\n",
       "      <th>Universal one-time payment (FPUC)</th>\n",
       "      <th>Adult one-time payment (FPUC)</th>\n",
       "      <th>FICA % cut (FPUC)</th>\n",
       "      <th>Universal one-time payment (FPUC2)</th>\n",
       "      <th>Adult one-time payment (FPUC2)</th>\n",
       "      <th>FICA % cut (FPUC2)</th>\n",
       "    </tr>\n",
       "    <tr>\n",
       "      <th>FLPDYR</th>\n",
       "      <th></th>\n",
       "      <th></th>\n",
       "      <th></th>\n",
       "      <th></th>\n",
       "      <th></th>\n",
       "      <th></th>\n",
       "    </tr>\n",
       "  </thead>\n",
       "  <tbody>\n",
       "    <tr>\n",
       "      <th>2009</th>\n",
       "      <td>391.74</td>\n",
       "      <td>518.87</td>\n",
       "      <td>25.75</td>\n",
       "      <td>262.17</td>\n",
       "      <td>347.25</td>\n",
       "      <td>17.23</td>\n",
       "    </tr>\n",
       "    <tr>\n",
       "      <th>2010</th>\n",
       "      <td>363.56</td>\n",
       "      <td>479.85</td>\n",
       "      <td>23.90</td>\n",
       "      <td>249.59</td>\n",
       "      <td>329.43</td>\n",
       "      <td>16.41</td>\n",
       "    </tr>\n",
       "    <tr>\n",
       "      <th>2011</th>\n",
       "      <td>343.53</td>\n",
       "      <td>452.00</td>\n",
       "      <td>28.81</td>\n",
       "      <td>232.85</td>\n",
       "      <td>306.36</td>\n",
       "      <td>19.53</td>\n",
       "    </tr>\n",
       "    <tr>\n",
       "      <th>2012</th>\n",
       "      <td>318.51</td>\n",
       "      <td>418.24</td>\n",
       "      <td>26.23</td>\n",
       "      <td>213.84</td>\n",
       "      <td>280.80</td>\n",
       "      <td>17.61</td>\n",
       "    </tr>\n",
       "    <tr>\n",
       "      <th>2013</th>\n",
       "      <td>292.38</td>\n",
       "      <td>382.62</td>\n",
       "      <td>17.64</td>\n",
       "      <td>194.99</td>\n",
       "      <td>255.17</td>\n",
       "      <td>11.77</td>\n",
       "    </tr>\n",
       "    <tr>\n",
       "      <th>2014</th>\n",
       "      <td>246.90</td>\n",
       "      <td>322.24</td>\n",
       "      <td>14.53</td>\n",
       "      <td>158.65</td>\n",
       "      <td>207.05</td>\n",
       "      <td>9.34</td>\n",
       "    </tr>\n",
       "    <tr>\n",
       "      <th>2015</th>\n",
       "      <td>231.61</td>\n",
       "      <td>301.68</td>\n",
       "      <td>12.65</td>\n",
       "      <td>150.26</td>\n",
       "      <td>195.72</td>\n",
       "      <td>8.21</td>\n",
       "    </tr>\n",
       "    <tr>\n",
       "      <th>2016</th>\n",
       "      <td>212.64</td>\n",
       "      <td>276.56</td>\n",
       "      <td>11.33</td>\n",
       "      <td>139.25</td>\n",
       "      <td>181.11</td>\n",
       "      <td>7.42</td>\n",
       "    </tr>\n",
       "    <tr>\n",
       "      <th>2017</th>\n",
       "      <td>188.15</td>\n",
       "      <td>243.99</td>\n",
       "      <td>9.59</td>\n",
       "      <td>119.28</td>\n",
       "      <td>154.68</td>\n",
       "      <td>6.08</td>\n",
       "    </tr>\n",
       "    <tr>\n",
       "      <th>2018</th>\n",
       "      <td>183.88</td>\n",
       "      <td>238.03</td>\n",
       "      <td>9.02</td>\n",
       "      <td>116.79</td>\n",
       "      <td>151.19</td>\n",
       "      <td>5.73</td>\n",
       "    </tr>\n",
       "  </tbody>\n",
       "</table>\n",
       "</div>"
      ],
      "text/plain": [
       "        Universal one-time payment (FPUC)  Adult one-time payment (FPUC)  \\\n",
       "FLPDYR                                                                     \n",
       "2009                               391.74                         518.87   \n",
       "2010                               363.56                         479.85   \n",
       "2011                               343.53                         452.00   \n",
       "2012                               318.51                         418.24   \n",
       "2013                               292.38                         382.62   \n",
       "2014                               246.90                         322.24   \n",
       "2015                               231.61                         301.68   \n",
       "2016                               212.64                         276.56   \n",
       "2017                               188.15                         243.99   \n",
       "2018                               183.88                         238.03   \n",
       "\n",
       "        FICA % cut (FPUC)  Universal one-time payment (FPUC2)  \\\n",
       "FLPDYR                                                          \n",
       "2009                25.75                              262.17   \n",
       "2010                23.90                              249.59   \n",
       "2011                28.81                              232.85   \n",
       "2012                26.23                              213.84   \n",
       "2013                17.64                              194.99   \n",
       "2014                14.53                              158.65   \n",
       "2015                12.65                              150.26   \n",
       "2016                11.33                              139.25   \n",
       "2017                 9.59                              119.28   \n",
       "2018                 9.02                              116.79   \n",
       "\n",
       "        Adult one-time payment (FPUC2)  FICA % cut (FPUC2)  \n",
       "FLPDYR                                                      \n",
       "2009                            347.25               17.23  \n",
       "2010                            329.43               16.41  \n",
       "2011                            306.36               19.53  \n",
       "2012                            280.80               17.61  \n",
       "2013                            255.17               11.77  \n",
       "2014                            207.05                9.34  \n",
       "2015                            195.72                8.21  \n",
       "2016                            181.11                7.42  \n",
       "2017                            154.68                6.08  \n",
       "2018                            151.19                5.73  "
      ]
     },
     "execution_count": 21,
     "metadata": {},
     "output_type": "execute_result"
    }
   ],
   "source": [
    "# Print reform parameter summary.\n",
    "(year_summary.set_index('FLPDYR')[\n",
    "    FPUC_YEARLY_METRICS + FPUC2_YEARLY_METRICS].rename(\n",
    "    columns=DISPLAY_METRICS)).round(2)"
   ]
  },
  {
   "cell_type": "markdown",
   "metadata": {},
   "source": [
    "Merge to `person2`."
   ]
  },
  {
   "cell_type": "code",
   "execution_count": 22,
   "metadata": {},
   "outputs": [],
   "source": [
    "person3 = person2.merge(\n",
    "    year_summary[['FLPDYR'] + FPUC_YEARLY_METRICS + FPUC2_YEARLY_METRICS],\n",
    "    on='FLPDYR')\n",
    "del person2"
   ]
  },
  {
   "cell_type": "markdown",
   "metadata": {},
   "source": [
    "Run calculations on all fields (except `fpuc_ubi` which already works)."
   ]
  },
  {
   "cell_type": "code",
   "execution_count": 23,
   "metadata": {},
   "outputs": [],
   "source": [
    "# Zero out adult UBIs for children.\n",
    "person3.loc[person3.age < 18, 'fpuc_adult_ubi'] = 0\n",
    "# Calculate total FICA cut by multiplying FICA by % cut.\n",
    "# Divide by 100 as it was previously multiplied by 100 for table displaying.\n",
    "person3['fpuc_fica_cut'] = person3.fica * person3.fpuc_fica_pct_cut / 100\n",
    "# Similar process for FPUC2, but also adding fpuc_net since this is on top\n",
    "# of the existing FPUC.\n",
    "person3['fpuc2_ubi'] = person3.fpuc_net + person3.fpuc2_ubi\n",
    "person3['fpuc2_adult_ubi'] = (person3.fpuc_net + \n",
    "                              np.where(person3.age > 17,\n",
    "                                       person3.fpuc2_adult_ubi, 0))\n",
    "person3['fpuc2_fica_cut'] = (person3.fpuc_net +\n",
    "                             person3.fica * person3.fpuc2_fica_pct_cut / 100)"
   ]
  },
  {
   "cell_type": "markdown",
   "metadata": {},
   "source": [
    "Verify the `fpuc` and `fpuc2` have equal costs, respectively, in each year."
   ]
  },
  {
   "cell_type": "code",
   "execution_count": 24,
   "metadata": {},
   "outputs": [],
   "source": [
    "for year in person3.FLPDYR.unique():\n",
    "    tmp = person3[person3.FLPDYR == year]\n",
    "    fpuc = mdf.weighted_sum(tmp, 'fpuc_net', 'asecwt')\n",
    "    assert np.allclose(fpuc, mdf.weighted_sum(tmp, 'fpuc_ubi', 'asecwt'))\n",
    "    assert np.allclose(fpuc, \n",
    "                       mdf.weighted_sum(tmp, 'fpuc_adult_ubi', 'asecwt'))\n",
    "    assert np.allclose(fpuc, mdf.weighted_sum(tmp, 'fpuc_fica_cut', 'asecwt'))\n",
    "    fpuc2 = mdf.weighted_sum(tmp, 'fpuc2_net', 'asecwt')\n",
    "    assert np.allclose(fpuc2, mdf.weighted_sum(tmp, 'fpuc2_ubi', 'asecwt'))\n",
    "    assert np.allclose(fpuc2, \n",
    "                       mdf.weighted_sum(tmp, 'fpuc2_adult_ubi', 'asecwt'))\n",
    "    assert np.allclose(fpuc2, mdf.weighted_sum(tmp,\n",
    "                                               'fpuc2_fica_cut', 'asecwt'))\n",
    "del tmp"
   ]
  },
  {
   "cell_type": "markdown",
   "metadata": {},
   "source": [
    "## Aggregate to SPM units"
   ]
  },
  {
   "cell_type": "code",
   "execution_count": 25,
   "metadata": {},
   "outputs": [],
   "source": [
    "SPM_COLS = ['FLPDYR', 'spmfamunit', 'spmtotres', 'spmthresh', 'spmwt']\n",
    "CHG_COLS = ['fpuc_net', 'fpuc_ubi', 'fpuc_adult_ubi', 'fpuc_fica_cut',\n",
    "            'fpuc2_net', 'fpuc2_ubi', 'fpuc2_adult_ubi', 'fpuc2_fica_cut']\n",
    "spmu = person3.groupby(SPM_COLS)[CHG_COLS].sum().reset_index()\n",
    "for i in CHG_COLS:\n",
    "    spmu['spmtotres_' + i] = spmu.spmtotres + spmu[i]"
   ]
  },
  {
   "cell_type": "markdown",
   "metadata": {},
   "source": [
    "## Map back to persons"
   ]
  },
  {
   "cell_type": "code",
   "execution_count": 26,
   "metadata": {},
   "outputs": [],
   "source": [
    "# Shrink the data.\n",
    "person3 = person3[['asecwt', 'age', 'race', 'sex'] + CHG_COLS + SPM_COLS]"
   ]
  },
  {
   "cell_type": "code",
   "execution_count": 27,
   "metadata": {},
   "outputs": [],
   "source": [
    "spm_resource_cols = ['spmtotres_' + i for i in CHG_COLS]\n",
    "SPMU_MERGE_COLS = ['spmfamunit', 'FLPDYR']\n",
    "person4 = person3.merge(spmu[SPMU_MERGE_COLS + spm_resource_cols],\n",
    "                        on=SPMU_MERGE_COLS)\n",
    "del person3\n",
    "# Poverty flags.\n",
    "for i in CHG_COLS:\n",
    "    person4['spmpoor_' + i ] = person4['spmtotres_' + i] < person4.spmthresh\n",
    "# Also calculate baseline.\n",
    "person4['spmpoor'] = person4.spmtotres < person4.spmthresh"
   ]
  },
  {
   "cell_type": "markdown",
   "metadata": {},
   "source": [
    "## Export\n",
    "\n",
    "Continue in analysis notebook.\n",
    "\n",
    "SPM-unit data is needed for the poverty gap, which requires weight, thresholds, and resources under each condition."
   ]
  },
  {
   "cell_type": "code",
   "execution_count": 28,
   "metadata": {},
   "outputs": [],
   "source": [
    "SPM_OUTCOLS = SPM_COLS + spm_resource_cols\n",
    "spmu[SPM_OUTCOLS].to_feather('data/spmu.feather')\n",
    "del spmu"
   ]
  },
  {
   "cell_type": "markdown",
   "metadata": {},
   "source": [
    "Person-level data is needed for the main analysis: poverty rates, inequality, race breakdown, etc."
   ]
  },
  {
   "cell_type": "code",
   "execution_count": 29,
   "metadata": {},
   "outputs": [],
   "source": [
    "PERSON_OUTCOLS = (['asecwt', 'age', 'race', 'sex', 'spmpoor'] + \n",
    "                  CHG_COLS + spm_resource_cols + SPM_COLS +\n",
    "                  ['spmpoor_' + i for i in CHG_COLS])\n",
    "person4[PERSON_OUTCOLS].to_feather('data/person.feather')"
   ]
  }
 ],
 "metadata": {
  "kernelspec": {
   "display_name": "Python 3",
   "language": "python",
   "name": "python3"
  },
  "language_info": {
   "codemirror_mode": {
    "name": "ipython",
    "version": 3
   },
   "file_extension": ".py",
   "mimetype": "text/x-python",
   "name": "python",
   "nbconvert_exporter": "python",
   "pygments_lexer": "ipython3",
   "version": "3.7.7"
  }
 },
 "nbformat": 4,
 "nbformat_minor": 4
}
