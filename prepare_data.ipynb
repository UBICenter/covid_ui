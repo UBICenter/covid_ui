{
 "cells": [
  {
   "cell_type": "code",
   "execution_count": 1,
   "metadata": {},
   "outputs": [],
   "source": [
    "import numpy as np\n",
    "import pandas as pd\n",
    "import taxcalc as tc\n",
    "import microdf as mdf\n",
    "\n",
    "np.random.seed(0)"
   ]
  },
  {
   "cell_type": "code",
   "execution_count": 2,
   "metadata": {},
   "outputs": [],
   "source": [
    "run 'convert_asec_taxcalc.py'"
   ]
  },
  {
   "cell_type": "code",
   "execution_count": 3,
   "metadata": {},
   "outputs": [],
   "source": [
    "run 'make_tax_units.py'"
   ]
  },
  {
   "cell_type": "code",
   "execution_count": 4,
   "metadata": {},
   "outputs": [],
   "source": [
    "person = pd.read_csv('/home/mghenis/asec_2000_2019.csv.gz')\n",
    "person = person[person.YEAR == 2019]"
   ]
  },
  {
   "cell_type": "markdown",
   "metadata": {},
   "source": [
    "## Preprocessing"
   ]
  },
  {
   "cell_type": "code",
   "execution_count": 5,
   "metadata": {},
   "outputs": [],
   "source": [
    "# Set columns to lowercase and to 0 or null as appropriate.\n",
    "prep_ipum(person)\n",
    "# Add taxid and related fields.\n",
    "tax_unit_id(person)\n",
    "# Add other person-level columns in taxcalc form.\n",
    "person = convert_asec_person_taxcalc(person)\n",
    "# 99 is the missing code for wksunem1.\n",
    "# Note: Missing codes for features used in taxcalc are recoded in\n",
    "# convert_asec_taxcalc.py.\n",
    "person.loc[person.wksunem1 == 99, 'wksunem1'] = 0"
   ]
  },
  {
   "cell_type": "markdown",
   "metadata": {},
   "source": [
    "## Add UI to person records\n",
    "\n",
    "Assume that unemployment blocks are contiguous and randomly distributed."
   ]
  },
  {
   "cell_type": "code",
   "execution_count": 6,
   "metadata": {},
   "outputs": [],
   "source": [
    "person['ui_start'] = np.random.randint(1, 53 - person.wksunem1,\n",
    "                                       person.shape[0])\n",
    "person['ui_end'] = person.ui_start + person.wksunem1"
   ]
  },
  {
   "cell_type": "code",
   "execution_count": 26,
   "metadata": {},
   "outputs": [],
   "source": [
    "FPUC_START = 13  # April was the 13th week.\n",
    "FPUC_MAX_WEEKS = 17  # April to July.\n",
    "FPUC2_START = FPUC_START + FPUC_MAX_WEEKS\n",
    "FPUC2_MAX_WEEKS = 22  # August to December.\n",
    "FPUC_WEEKLY_BEN = 600\n",
    "person['fpuc_weeks'] = np.fmax(\n",
    "    0, np.fmin(person.ui_end - FPUC_START,\n",
    "               np.fmin(person.wksunem1, FPUC_MAX_WEEKS)))\n",
    "person['fpuc2_weeks'] = np.fmax(\n",
    "    0, np.fmin(person.ui_end - FPUC2_START,\n",
    "               np.fmin(person.wksunem1, FPUC2_MAX_WEEKS)))\n",
    "person['fpuc'] = FPUC_WEEKLY_BEN * person.fpuc_weeks\n",
    "person['fpuc2'] = person.fpuc + FPUC_WEEKLY_BEN * person.fpuc2_weeks\n",
    "\n",
    "# Checks\n",
    "assert person.fpuc_weeks.max() == FPUC_MAX_WEEKS\n",
    "assert person.fpuc2_weeks.max() == FPUC2_MAX_WEEKS\n",
    "assert person.fpuc_weeks.min() == person.fpuc2_weeks.min() == 0"
   ]
  },
  {
   "cell_type": "code",
   "execution_count": 27,
   "metadata": {},
   "outputs": [],
   "source": [
    "# Store original unemployment benefits.\n",
    "person['e02300_orig'] = person.e02300"
   ]
  },
  {
   "cell_type": "markdown",
   "metadata": {},
   "source": [
    "## Create tax units and calculate tax liability"
   ]
  },
  {
   "cell_type": "code",
   "execution_count": 28,
   "metadata": {},
   "outputs": [],
   "source": [
    "# Create tax unit dataframe.\n",
    "tu = create_tax_unit(person)\n",
    "tu['RECID'] = tu.taxid\n",
    "tu['tax'] = mdf.calc_df(records=tc.Records(tu), year=2018).tax.values"
   ]
  },
  {
   "cell_type": "markdown",
   "metadata": {},
   "source": [
    "Simulate FPUC."
   ]
  },
  {
   "cell_type": "code",
   "execution_count": 29,
   "metadata": {},
   "outputs": [],
   "source": [
    "# Create tax unit dataframe.\n",
    "person.e02300 = person.e02300_orig + person.fpuc\n",
    "tu_fpuc = create_tax_unit(person)\n",
    "tu['e02300_fpuc'] = tu_fpuc.e02300\n",
    "tu_fpuc['RECID'] = tu_fpuc.taxid\n",
    "tu['tax_fpuc'] = mdf.calc_df(records=tc.Records(tu_fpuc),\n",
    "                             year=2018).tax.values\n",
    "del tu_fpuc"
   ]
  },
  {
   "cell_type": "markdown",
   "metadata": {},
   "source": [
    "Simulate extended FPUC."
   ]
  },
  {
   "cell_type": "code",
   "execution_count": 30,
   "metadata": {},
   "outputs": [],
   "source": [
    "# Create tax unit dataframe.\n",
    "person.e02300 = person.e02300_orig + person.fpuc2\n",
    "tu_fpuc2 = create_tax_unit(person)\n",
    "tu['e02300_fpuc2'] = tu_fpuc2.e02300\n",
    "tu_fpuc2['RECID'] = tu_fpuc2.taxid\n",
    "tu['tax_fpuc2'] = mdf.calc_df(records=tc.Records(tu_fpuc2),\n",
    "                             year=2018).tax.values\n",
    "del tu_fpuc2"
   ]
  },
  {
   "cell_type": "code",
   "execution_count": 31,
   "metadata": {},
   "outputs": [],
   "source": [
    "# Change person e02300 back.\n",
    "person.e02300 = person.e02300_orig"
   ]
  },
  {
   "cell_type": "markdown",
   "metadata": {},
   "source": [
    "## Merge back to the person level\n",
    "\n",
    "Have each person pay the share of tax differences in proportion with their FPUC."
   ]
  },
  {
   "cell_type": "code",
   "execution_count": 32,
   "metadata": {},
   "outputs": [],
   "source": [
    "tu['fpuc_total'] = tu.e02300_fpuc - tu.e02300\n",
    "tu['fpuc2_total'] = tu.e02300_fpuc2 - tu.e02300\n",
    "tu['fpuc_tax_total'] = tu.tax_fpuc - tu.tax\n",
    "tu['fpuc2_tax_total'] = tu.tax_fpuc2 - tu.tax\n",
    "tu.set_index('RECID', inplace=True)"
   ]
  },
  {
   "cell_type": "code",
   "execution_count": 33,
   "metadata": {},
   "outputs": [],
   "source": [
    "person2 = person.merge(tu[['fpuc_total', 'fpuc2_total',\n",
    "                           'fpuc_tax_total', 'fpuc2_tax_total']],\n",
    "                       left_on='taxid', right_index=True)"
   ]
  },
  {
   "cell_type": "code",
   "execution_count": 34,
   "metadata": {},
   "outputs": [],
   "source": [
    "for i in ['fpuc', 'fpuc2']:\n",
    "    person2[i + '_tax'] = np.where(person2[i + '_total'] == 0, 0,\n",
    "        person2[i + '_tax_total'] * person2[i] / person2[i + '_total'])\n",
    "    person2[i + '_net'] = person2[i] - person2[i + '_tax']"
   ]
  },
  {
   "cell_type": "markdown",
   "metadata": {},
   "source": [
    "Checks that the totals match by person and tax unit."
   ]
  },
  {
   "cell_type": "code",
   "execution_count": 35,
   "metadata": {},
   "outputs": [],
   "source": [
    "assert np.allclose(tu.fpuc_total.sum(), person2.fpuc.sum())\n",
    "assert np.allclose(tu.fpuc2_total.sum(), person2.fpuc2.sum())\n",
    "assert np.allclose(tu.fpuc_tax_total.sum(), person2.fpuc_tax.sum())\n",
    "assert np.allclose(tu.fpuc2_tax_total.sum(), person2.fpuc2_tax.sum())"
   ]
  },
  {
   "cell_type": "markdown",
   "metadata": {},
   "source": [
    "## Calculate budget-neutral UBIs and payroll taxes"
   ]
  },
  {
   "cell_type": "code",
   "execution_count": 36,
   "metadata": {},
   "outputs": [],
   "source": [
    "fpuc_budget = mdf.weighted_sum(person2, 'fpuc_net', 'asecwt')\n",
    "fpuc1_2_budget = mdf.weighted_sum(person2, 'fpuc2_net', 'asecwt')\n",
    "fpuc2_budget = fpuc1_2_budget - fpuc_budget\n",
    "pop = person2.asecwt.sum()\n",
    "adult_pop = person2[person2.age > 17].asecwt.sum()\n",
    "total_fica = mdf.weighted_sum(person2, 'fica', 'asecwt')"
   ]
  },
  {
   "cell_type": "code",
   "execution_count": 37,
   "metadata": {},
   "outputs": [
    {
     "name": "stdout",
     "output_type": "stream",
     "text": [
      "All figures in millions\n"
     ]
    },
    {
     "data": {
      "text/html": [
       "<div>\n",
       "<style scoped>\n",
       "    .dataframe tbody tr th:only-of-type {\n",
       "        vertical-align: middle;\n",
       "    }\n",
       "\n",
       "    .dataframe tbody tr th {\n",
       "        vertical-align: top;\n",
       "    }\n",
       "\n",
       "    .dataframe thead th {\n",
       "        text-align: right;\n",
       "    }\n",
       "</style>\n",
       "<table border=\"1\" class=\"dataframe\">\n",
       "  <thead>\n",
       "    <tr style=\"text-align: right;\">\n",
       "      <th></th>\n",
       "      <th>Cost of FPUC</th>\n",
       "      <th>Cost of expanding FPUC</th>\n",
       "      <th>Population</th>\n",
       "      <th>Adult population</th>\n",
       "      <th>Total FICA</th>\n",
       "    </tr>\n",
       "  </thead>\n",
       "  <tbody>\n",
       "    <tr>\n",
       "      <th>0</th>\n",
       "      <td>65489.0</td>\n",
       "      <td>42510.0</td>\n",
       "      <td>324.0</td>\n",
       "      <td>251.0</td>\n",
       "      <td>661276.0</td>\n",
       "    </tr>\n",
       "  </tbody>\n",
       "</table>\n",
       "</div>"
      ],
      "text/plain": [
       "   Cost of FPUC  Cost of expanding FPUC  Population  Adult population  \\\n",
       "0       65489.0                 42510.0       324.0             251.0   \n",
       "\n",
       "   Total FICA  \n",
       "0    661276.0  "
      ]
     },
     "execution_count": 37,
     "metadata": {},
     "output_type": "execute_result"
    }
   ],
   "source": [
    "print(\"All figures in millions\")\n",
    "(pd.DataFrame({'Cost of FPUC': [fpuc_budget],\n",
    "               'Cost of expanding FPUC': [fpuc2_budget],\n",
    "               'Population': [pop],\n",
    "               'Adult population': [adult_pop],\n",
    "               'Total FICA': [total_fica],\n",
    "              }) / 1e6).round(0) "
   ]
  },
  {
   "cell_type": "code",
   "execution_count": 38,
   "metadata": {},
   "outputs": [],
   "source": [
    "fpuc_ubi = fpuc_budget / pop\n",
    "fpuc_adult_ubi = fpuc_budget / adult_pop\n",
    "fpuc_fica_pct_cut = fpuc_budget / total_fica\n",
    "# Note: FPUC2 includes FPUC1.\n",
    "fpuc2_ubi = fpuc2_budget / pop\n",
    "fpuc2_adult_ubi = fpuc2_budget / adult_pop\n",
    "fpuc2_fica_pct_cut = fpuc2_budget / total_fica"
   ]
  },
  {
   "cell_type": "code",
   "execution_count": 39,
   "metadata": {},
   "outputs": [
    {
     "data": {
      "text/html": [
       "<div>\n",
       "<style scoped>\n",
       "    .dataframe tbody tr th:only-of-type {\n",
       "        vertical-align: middle;\n",
       "    }\n",
       "\n",
       "    .dataframe tbody tr th {\n",
       "        vertical-align: top;\n",
       "    }\n",
       "\n",
       "    .dataframe thead th {\n",
       "        text-align: right;\n",
       "    }\n",
       "</style>\n",
       "<table border=\"1\" class=\"dataframe\">\n",
       "  <thead>\n",
       "    <tr style=\"text-align: right;\">\n",
       "      <th></th>\n",
       "      <th>Universal one-time payment</th>\n",
       "      <th>Adult one-time payment</th>\n",
       "      <th>FICA % cut</th>\n",
       "    </tr>\n",
       "  </thead>\n",
       "  <tbody>\n",
       "    <tr>\n",
       "      <th>FPUC</th>\n",
       "      <td>202.0</td>\n",
       "      <td>261.0</td>\n",
       "      <td>10.0</td>\n",
       "    </tr>\n",
       "    <tr>\n",
       "      <th>Expanded FPUC</th>\n",
       "      <td>131.0</td>\n",
       "      <td>170.0</td>\n",
       "      <td>6.0</td>\n",
       "    </tr>\n",
       "  </tbody>\n",
       "</table>\n",
       "</div>"
      ],
      "text/plain": [
       "               Universal one-time payment  Adult one-time payment  FICA % cut\n",
       "FPUC                                202.0                   261.0        10.0\n",
       "Expanded FPUC                       131.0                   170.0         6.0"
      ]
     },
     "execution_count": 39,
     "metadata": {},
     "output_type": "execute_result"
    }
   ],
   "source": [
    "pd.DataFrame({'Universal one-time payment': [fpuc_ubi, fpuc2_ubi],\n",
    "              'Adult one-time payment': [fpuc_adult_ubi, fpuc2_adult_ubi],\n",
    "              'FICA % cut': [fpuc_fica_pct_cut * 100,\n",
    "                             fpuc2_fica_pct_cut * 100]},\n",
    "              index=['FPUC', 'Expanded FPUC']\n",
    "            ).round(0) "
   ]
  },
  {
   "cell_type": "code",
   "execution_count": 40,
   "metadata": {},
   "outputs": [],
   "source": [
    "person2['fpuc_ubi'] = fpuc_ubi\n",
    "person2['fpuc_adult_ubi'] = np.where(person2.age > 17, fpuc_adult_ubi, 0)\n",
    "person2['fpuc_fica_cut'] = person2.fica * fpuc_fica_pct_cut\n",
    "\n",
    "person2['fpuc2_ubi'] = person2.fpuc_net + fpuc2_ubi\n",
    "person2['fpuc2_adult_ubi'] = (person2.fpuc_net + \n",
    "                              np.where(person2.age > 17, fpuc2_adult_ubi, 0))\n",
    "person2['fpuc2_fica_cut'] = (person2.fpuc_net +\n",
    "                             person2.fica * fpuc2_fica_pct_cut)"
   ]
  },
  {
   "cell_type": "markdown",
   "metadata": {},
   "source": [
    "## Aggregate to SPM units"
   ]
  },
  {
   "cell_type": "code",
   "execution_count": 41,
   "metadata": {},
   "outputs": [],
   "source": [
    "SPM_COLS = ['spmfamunit', 'spmtotres', 'spmthresh', 'spmwt']\n",
    "CHG_COLS = ['fpuc_net', 'fpuc_ubi', 'fpuc_adult_ubi', 'fpuc_fica_cut',\n",
    "            'fpuc2_net', 'fpuc2_ubi', 'fpuc2_adult_ubi', 'fpuc2_fica_cut']\n",
    "spmu = person2.groupby(SPM_COLS)[CHG_COLS].sum().reset_index()\n",
    "for i in CHG_COLS:\n",
    "    spmu['spmtotres_' + i] = spmu.spmtotres + spmu[i]"
   ]
  },
  {
   "cell_type": "markdown",
   "metadata": {},
   "source": [
    "## Map back to persons"
   ]
  },
  {
   "cell_type": "code",
   "execution_count": 42,
   "metadata": {},
   "outputs": [],
   "source": [
    "spm_resource_cols = ['spmtotres_' + i for i in CHG_COLS]\n",
    "person3 = person2.merge(spmu[['spmfamunit'] + spm_resource_cols],\n",
    "                        on='spmfamunit')\n",
    "# Poverty flags.\n",
    "for i in CHG_COLS:\n",
    "    person3['spmpoor_' + i ] = person3['spmtotres_' + i] < person3.spmthresh\n",
    "# Also calculate baseline.\n",
    "person3['spmpoor'] = person3.spmtotres < person3.spmthresh"
   ]
  },
  {
   "cell_type": "markdown",
   "metadata": {},
   "source": [
    "## Export\n",
    "\n",
    "Continue in analysis notebook.\n",
    "\n",
    "SPM-unit data is needed for the poverty gap, which requires weight, thresholds, and resources under each condition."
   ]
  },
  {
   "cell_type": "code",
   "execution_count": 43,
   "metadata": {},
   "outputs": [],
   "source": [
    "SPM_OUTCOLS = SPM_COLS + spm_resource_cols\n",
    "spmu[SPM_OUTCOLS].to_csv('spmu.csv.gz', compression='gzip', index=False)"
   ]
  },
  {
   "cell_type": "markdown",
   "metadata": {},
   "source": [
    "Person-level data is needed for the main analysis: poverty rates, inequality, race breakdown, etc."
   ]
  },
  {
   "cell_type": "code",
   "execution_count": 44,
   "metadata": {},
   "outputs": [],
   "source": [
    "PERSON_OUTCOLS = (['asecwt', 'age', 'race', 'sex', 'spmpoor'] + \n",
    "                  CHG_COLS + spm_resource_cols + SPM_COLS +\n",
    "                  ['spmpoor_' + i for i in CHG_COLS])\n",
    "person3[PERSON_OUTCOLS].to_csv('person.csv.gz', compression='gzip',\n",
    "                               index=False)"
   ]
  }
 ],
 "metadata": {
  "kernelspec": {
   "display_name": "Python 3",
   "language": "python",
   "name": "python3"
  },
  "language_info": {
   "codemirror_mode": {
    "name": "ipython",
    "version": 3
   },
   "file_extension": ".py",
   "mimetype": "text/x-python",
   "name": "python",
   "nbconvert_exporter": "python",
   "pygments_lexer": "ipython3",
   "version": "3.7.7"
  }
 },
 "nbformat": 4,
 "nbformat_minor": 4
}
